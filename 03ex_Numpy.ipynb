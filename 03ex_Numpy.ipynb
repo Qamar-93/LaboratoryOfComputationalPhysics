{
 "cells": [
  {
   "cell_type": "markdown",
   "metadata": {},
   "source": [
    "### Numpy basics"
   ]
  },
  {
   "cell_type": "markdown",
   "metadata": {},
   "source": [
    "1\\. Find the row, column and overall means for the following matrix:\n",
    "\n",
    "```python\n",
    "m = np.arange(12).reshape((3,4))\n",
    "```"
   ]
  },
  {
   "cell_type": "code",
   "execution_count": 2,
   "metadata": {},
   "outputs": [
    {
     "name": "stdout",
     "output_type": "stream",
     "text": [
      "[[ 0  1  2  3]\n",
      " [ 4  5  6  7]\n",
      " [ 8  9 10 11]]\n",
      "[4. 5. 6. 7.]\n",
      "[1.5 5.5 9.5]\n",
      "5.5\n"
     ]
    }
   ],
   "source": [
    "import numpy as np\n",
    "m = np.arange(12).reshape((3,4))\n",
    "print(m)\n",
    "print(np.mean(m,axis=0)) #mean of rows for each column\n",
    "print(np.mean(m,axis=1)) #mean of columns for each row\n",
    "print(np.mean(m))"
   ]
  },
  {
   "cell_type": "markdown",
   "metadata": {},
   "source": [
    "2\\. Find the outer product of the following two vecotrs\n",
    "\n",
    "```python\n",
    "u = np.array([1,3,5,7])\n",
    "v = np.array([2,4,6,8])\n",
    "```\n",
    "\n",
    "Do this in the following ways:\n",
    "\n",
    "   * Using the function outer in numpy\n",
    "   * Using a nested for loop or list comprehension\n",
    "   * Using numpy broadcasting operatoins\n"
   ]
  },
  {
   "cell_type": "code",
   "execution_count": 13,
   "metadata": {},
   "outputs": [
    {
     "name": "stdout",
     "output_type": "stream",
     "text": [
      "[[ 2  4  6  8]\n",
      " [ 6 12 18 24]\n",
      " [10 20 30 40]\n",
      " [14 28 42 56]]\n",
      "[[ 2.  4.  6.  8.]\n",
      " [ 6. 12. 18. 24.]\n",
      " [10. 20. 30. 40.]\n",
      " [14. 28. 42. 56.]]\n",
      "[[ 2  4  6  8]\n",
      " [ 6 12 18 24]\n",
      " [10 20 30 40]\n",
      " [14 28 42 56]]\n"
     ]
    }
   ],
   "source": [
    "u = np.array([1,3,5,7])\n",
    "v = np.array([2,4,6,8])\n",
    "outProduct = np.outer(u,v)\n",
    "res = np.ones((4,4))\n",
    "print(outProduct)\n",
    "\n",
    "for i in range(len(u)) :\n",
    "    for j in range(len(v)) :\n",
    "        res[i,j]=u[i] * v[j]\n",
    "print(res)\n",
    "\n",
    "broadProduct =u[:, np.newaxis] * v;\n",
    "print(broadProduct)\n",
    "\n"
   ]
  },
  {
   "cell_type": "markdown",
   "metadata": {},
   "source": [
    "3\\. Create a 10 by 6 matrix of random uniform numbers. Set all rows with any entry less than 0.1 to be zero\n",
    "\n",
    "Hint: Use the following numpy functions - np.random.random, np.any as well as Boolean indexing and the axis argument."
   ]
  },
  {
   "cell_type": "code",
   "execution_count": 14,
   "metadata": {},
   "outputs": [
    {
     "name": "stdout",
     "output_type": "stream",
     "text": [
      "10 by 6 matrix: \n",
      " [[0.41887792 0.15145752 0.73683524 0.28178122 0.94077747 0.83506162]\n",
      " [0.29273423 0.59101055 0.25941407 0.         0.49736739 0.50886247]\n",
      " [0.60852132 0.64398773 0.12389934 0.12128053 0.23739532 0.7714275 ]\n",
      " [0.19747889 0.82406188 0.22773867 0.85089309 0.14786416 0.95801804]\n",
      " [0.30887347 0.79728236 0.30684082 0.30096139 0.20251171 0.45622945]\n",
      " [0.34949684 0.53932193 0.45163545 0.23681372 0.6396835  0.11373818]\n",
      " [0.27974089 0.58736963 0.93879952 0.82214698 0.52607625 0.55632704]\n",
      " [0.         0.         0.24100521 0.31853508 0.29248866 0.23791523]\n",
      " [0.62753532 0.99983404 0.46559006 0.79029102 0.         0.57307513]\n",
      " [0.50355652 0.4624777  0.22576651 0.76160806 0.18810938 0.93473897]] \n",
      "\n"
     ]
    }
   ],
   "source": [
    "import numpy.random as npr\n",
    "x = npr.rand(10,6);\n",
    "x[x<0.1] = 0\n",
    "print (\"10 by 6 matrix:\",'\\n',x,'\\n') # shape=(3,6)"
   ]
  },
  {
   "cell_type": "markdown",
   "metadata": {},
   "source": [
    "4\\. Use np.linspace to create an array of 100 numbers between 0 and 2π (includsive).\n",
    "\n",
    "  * Extract every 10th element using slice notation\n",
    "  * Reverse the array using slice notation\n",
    "  * Extract elements where the absolute difference between the sine and cosine functions evaluated at that element is less than 0.1\n",
    "  * Make a plot showing the sin and cos functions and indicate where they are close"
   ]
  },
  {
   "cell_type": "code",
   "execution_count": 4,
   "metadata": {},
   "outputs": [
    {
     "data": {
      "image/png": "[encoded data removed]",
      "text/plain": [
       "<Figure size 432x288 with 1 Axes>"
      ]
     },
     "metadata": {
      "needs_background": "light"
     },
     "output_type": "display_data"
    }
   ],
   "source": [
    "import math\n",
    "import matplotlib.pyplot as plt\n",
    "x1 = np.linspace(0, 2 * math.pi, 100)\n",
    "x2 = x1[::10]\n",
    "x3 = x2[::-1]\n",
    "%matplotlib inline\n",
    "absdiff = x1[np.absolute(np.sin(x1)-np.cos(x1))<0.1]\n",
    "\n",
    "x = np.sin(x1)\n",
    "y = np.cos(x1)\n",
    "intPoints = np.argwhere(np.diff(np.sign(x - y))).flatten()\n",
    "   \n",
    "plt.plot(x1,x,x1,y, x1[intPoints],x[intPoints],'ro');\n",
    "\n",
    "\n"
   ]
  },
  {
   "cell_type": "markdown",
   "metadata": {},
   "source": [
    "5\\. Create a matrix that shows the 10 by 10 multiplication table.\n",
    "\n",
    " * Find the trace of the matrix\n",
    " * Extract the anto-diagonal (this should be ```array([10, 18, 24, 28, 30, 30, 28, 24, 18, 10])```)\n",
    " * Extract the diagnoal offset by 1 upwards (this should be ```array([ 2,  6, 12, 20, 30, 42, 56, 72, 90])```)"
   ]
  },
  {
   "cell_type": "code",
   "execution_count": 136,
   "metadata": {},
   "outputs": [
    {
     "name": "stdout",
     "output_type": "stream",
     "text": [
      "[[  1.   2.   3.   4.   5.   6.   7.   8.   9.  10.]\n",
      " [  2.   4.   6.   8.  10.  12.  14.  16.  18.  20.]\n",
      " [  3.   6.   9.  12.  15.  18.  21.  24.  27.  30.]\n",
      " [  4.   8.  12.  16.  20.  24.  28.  32.  36.  40.]\n",
      " [  5.  10.  15.  20.  25.  30.  35.  40.  45.  50.]\n",
      " [  6.  12.  18.  24.  30.  36.  42.  48.  54.  60.]\n",
      " [  7.  14.  21.  28.  35.  42.  49.  56.  63.  70.]\n",
      " [  8.  16.  24.  32.  40.  48.  56.  64.  72.  80.]\n",
      " [  9.  18.  27.  36.  45.  54.  63.  72.  81.  90.]\n",
      " [ 10.  20.  30.  40.  50.  60.  70.  80.  90. 100.]]\n",
      "[10. 18. 24. 28. 30. 30. 28. 24. 18. 10.]\n",
      "[ 2.  6. 12. 20. 30. 42. 56. 72. 90.]\n"
     ]
    }
   ],
   "source": [
    "mult_table = np.ones((10,10))\n",
    "\n",
    "for i in range(len(mult_table)) :\n",
    "    for j in range(len(mult_table)) :\n",
    "        mult_table[j][i]=(j+1) * (i+1)\n",
    "print(mult_table)\n",
    "\n",
    "anto_diagonal = np.diag(np.rot90(mult_table))\n",
    "print(anto_diagonal)\n",
    "\n",
    "upward = np.diag(mult_table, k=1)\n",
    "print(upward)"
   ]
  },
  {
   "cell_type": "markdown",
   "metadata": {},
   "source": [
    "6\\. Use broadcasting to create a grid of distances\n",
    "\n",
    "Route 66 crosses the following cities in the US: Chicago, Springfield, Saint-Louis, Tulsa, Oklahoma City, Amarillo, Santa Fe, Albuquerque, Flagstaff, Los Angeles\n",
    "The corresponding positions in miles are: 0, 198, 303, 736, 871, 1175, 1475, 1544, 1913, 2448\n",
    "\n",
    "  * Construct a 2D grid of distances among each city along Route 66\n",
    "  * Convert that in km (those savages...)"
   ]
  },
  {
   "cell_type": "code",
   "execution_count": 3,
   "metadata": {},
   "outputs": [
    {
     "name": "stdout",
     "output_type": "stream",
     "text": [
      "[[   0.   316.8  484.8 1177.6 1393.6 1880.  2360.  2470.4 3060.8 3916.8]\n",
      " [ 316.8    0.   168.   860.8 1076.8 1563.2 2043.2 2153.6 2744.  3600. ]\n",
      " [ 484.8  168.     0.   692.8  908.8 1395.2 1875.2 1985.6 2576.  3432. ]\n",
      " [1177.6  860.8  692.8    0.   216.   702.4 1182.4 1292.8 1883.2 2739.2]\n",
      " [1393.6 1076.8  908.8  216.     0.   486.4  966.4 1076.8 1667.2 2523.2]\n",
      " [1880.  1563.2 1395.2  702.4  486.4    0.   480.   590.4 1180.8 2036.8]\n",
      " [2360.  2043.2 1875.2 1182.4  966.4  480.     0.   110.4  700.8 1556.8]\n",
      " [2470.4 2153.6 1985.6 1292.8 1076.8  590.4  110.4    0.   590.4 1446.4]\n",
      " [3060.8 2744.  2576.  1883.2 1667.2 1180.8  700.8  590.4    0.   856. ]\n",
      " [3916.8 3600.  3432.  2739.2 2523.2 2036.8 1556.8 1446.4  856.     0. ]]\n"
     ]
    }
   ],
   "source": [
    "x= np.array([0, 198, 303, 736, 871, 1175, 1475, 1544, 1913, 2448])\n",
    "\n",
    "res = np.absolute(x[:,np.newaxis]-x)\n",
    "print(res*1.6)\n",
    "        \n"
   ]
  },
  {
   "cell_type": "markdown",
   "metadata": {},
   "source": [
    "7\\. Prime numbers sieve: compute the prime numbers in the 0-N (N=99 to start with) range with a sieve (mask).\n",
    "  * Constract a shape (100,) boolean array, the mask\n",
    "  * Identify the multiples of each number starting from 2 and set accordingly the corresponding mask element\n",
    "  * Apply the mask to obtain an array of ordered prime numbers\n",
    "  * Check the performances (timeit); how does it scale with N?\n",
    "  * Implement the optimization suggested in the [sieve of Eratosthenes](https://en.wikipedia.org/wiki/Sieve_of_Eratosthenes)"
   ]
  },
  {
   "cell_type": "code",
   "execution_count": 42,
   "metadata": {},
   "outputs": [
    {
     "name": "stdout",
     "output_type": "stream",
     "text": [
      "[ 1  2  3  5  7 11 13 17 19 23 29 31 37 41 43 47 53 59 61 67 71 73 79 83\n",
      " 89 97]\n",
      "42.4 µs ± 3.32 µs per loop (mean ± std. dev. of 7 runs, 10000 loops each)\n",
      "257 µs ± 29.8 µs per loop (mean ± std. dev. of 7 runs, 1000 loops each)\n"
     ]
    }
   ],
   "source": [
    "import timeit\n",
    "\n",
    "def primes(N):\n",
    "    numbers = np.arange(N)\n",
    "    mask = numbers != 0\n",
    "    for x in range(2,int(np.sqrt(N))):\n",
    "        if mask[x] == True:\n",
    "            for y in range(x**2,N,x):\n",
    "                mask[y] = False\n",
    "                \n",
    "    return numbers[mask]\n",
    "\n",
    "print(primes(100))\n",
    "# check the time performance\n",
    "%timeit primes(100)\n",
    "%timeit primes(1000)"
   ]
  },
  {
   "cell_type": "markdown",
   "metadata": {},
   "source": [
    "8\\. Diffusion using random walk\n",
    "\n",
    "Consider a simple random walk process: at each step in time, a walker jumps right or left (+1 or -1) with equal probability. The goal is to find the typical distance from the origin of a random walker after a given amount of time. \n",
    "To do that, let's simulate many walkers and create a 2D array with each walker as a raw and the actual time evolution as columns\n",
    "\n",
    "  * Take 1000 walkers and let them walk for 200 steps\n",
    "  * Use randint to create a 2D array of size walkers x steps with values -1 or 1\n",
    "  * Build the actual walking distances for each walker (i.e. another 2D array \"summing on each raw\")\n",
    "  * Take the square of that 2D array (elementwise)\n",
    "  * Compute the mean of the squared distances at each step (i.e. the mean along the columns)\n",
    "  * Plot the average distances (sqrt(distance\\*\\*2)) as a function of time (step)\n",
    "  \n",
    "Did you get what you expected?"
   ]
  },
  {
   "cell_type": "code",
   "execution_count": 13,
   "metadata": {},
   "outputs": [
    {
     "name": "stdout",
     "output_type": "stream",
     "text": [
      "[[ -1  -2  -3 ... -14 -13 -12]\n",
      " [  1   0   1 ...  10  11  10]\n",
      " [ -1  -2  -1 ... -14 -15 -16]\n",
      " ...\n",
      " [  1   2   1 ...   0   1   2]\n",
      " [ -1   0   1 ...  -2  -1  -2]\n",
      " [  1   0  -1 ... -32 -31 -30]]\n"
     ]
    },
    {
     "data": {
      "text/plain": [
       "[<matplotlib.lines.Line2D at 0x1651eebc1d0>]"
      ]
     },
     "execution_count": 13,
     "metadata": {},
     "output_type": "execute_result"
    },
    {
     "data": {
      "image/png": "[encoded data removed]",
      "text/plain": [
       "<Figure size 432x288 with 1 Axes>"
      ]
     },
     "metadata": {
      "needs_background": "light"
     },
     "output_type": "display_data"
    }
   ],
   "source": [
    "randomValues =np.random.randint(0,2,size=(1000,200))\n",
    "steps = (randomValues*2)- 1\n",
    "noSteps = 0\n",
    "for walker in range (0,1000):\n",
    "    noSteps =0\n",
    "    for step in range(0,200):\n",
    "        noSteps = noSteps + steps[walker,step]\n",
    "        steps[walker,step] = noSteps\n",
    "msq = np.mean(steps **2, axis =0)\n",
    "print(np.array(steps))\n",
    "plt.plot(range(200), msq)\n"
   ]
  },
  {
   "cell_type": "markdown",
   "metadata": {},
   "source": [
    "9\\. Analyze a data file \n",
    "  * Download the population of hares, lynxes and carrots at the beginning of the last century.\n",
    "    ```python\n",
    "    ! wget https://www.dropbox.com/s/3vigxoqayo389uc/populations.txt\n",
    "    ```\n",
    "\n",
    "  * Check the content by looking within the file\n",
    "  * Load the data (use an appropriate numpy method) into a 2D array\n",
    "  * Create arrays out of the columns, the arrays being (in order): *year*, *hares*, *lynxes*, *carrots* \n",
    "  * Plot the 3 populations over the years\n",
    "  * Compute the main statistical properties of the dataset (mean, std, correlations, etc.)\n",
    "  * Which species has the highest population each year?\n",
    "\n",
    "Do you feel there is some evident correlation here? [Studies](https://www.enr.gov.nt.ca/en/services/lynx/lynx-snowshoe-hare-cycle) tend to believe so."
   ]
  },
  {
   "cell_type": "code",
   "execution_count": 8,
   "metadata": {},
   "outputs": [
    {
     "name": "stdout",
     "output_type": "stream",
     "text": [
      "Statistical properties forharesdataset:\n",
      "sum 715700.0\n",
      "argmin 17\n",
      "mean 34080.95238095238\n",
      "median 25400.0\n",
      "std 20897.906458089667\n",
      "\n",
      "\n",
      "Statistical properties forlynxesdataset:\n",
      "sum 423500.0\n",
      "argmin 0\n",
      "mean 20166.666666666668\n",
      "median 12300.0\n",
      "std 16254.591536908763\n",
      "\n",
      "\n",
      "Statistical properties forcarrotsdataset:\n",
      "sum 890400.0\n",
      "argmin 16\n",
      "mean 42400.0\n",
      "median 41800.0\n",
      "std 3322.5062255844787\n",
      "\n",
      "\n",
      "\n",
      " correlation of hares and lynxes \n",
      " [[1.         0.07189206]\n",
      " [0.07189206 1.        ]] \n",
      "\n",
      "correlation of hares and carrots \n",
      " [[ 1.         -0.01660378]\n",
      " [-0.01660378  1.        ]] \n",
      "\n",
      "correlation of carrots and lynxes \n",
      " [[ 1.         -0.68057717]\n",
      " [-0.68057717  1.        ]] \n",
      "\n",
      "1900.0 carrots\n",
      "1901.0 carrots\n",
      "1902.0 hares\n",
      "1903.0 hares\n",
      "1904.0 lynxes\n",
      "1905.0 lynxes\n",
      "1906.0 carrots\n",
      "1907.0 carrots\n",
      "1908.0 carrots\n",
      "1909.0 carrots\n",
      "1910.0 carrots\n",
      "1911.0 carrots\n",
      "1912.0 hares\n",
      "1913.0 hares\n",
      "1914.0 hares\n",
      "1915.0 lynxes\n",
      "1916.0 carrots\n",
      "1917.0 carrots\n",
      "1918.0 carrots\n",
      "1919.0 carrots\n",
      "1920.0 carrots\n"
     ]
    },
    {
     "data": {
      "image/png": "[encoded data removed]",
      "text/plain": [
       "<Figure size 432x288 with 1 Axes>"
      ]
     },
     "metadata": {
      "needs_background": "light"
     },
     "output_type": "display_data"
    }
   ],
   "source": [
    "file_name ='populations.txt'\n",
    "data=np.loadtxt(file_name)\n",
    "years = data[:,0]\n",
    "hares = data[:,1]\n",
    "lynxes = data[:,2]\n",
    "carrots = data[:,3]\n",
    "\n",
    "dataset = ''\n",
    "plt.plot(years, hares, 'r', label='hares')\n",
    "plt.plot(years, lynxes , 'b', label='lynxes')\n",
    "plt.plot(years, carrots, 'g', label='carrots')\n",
    "\n",
    "dataNames = {\n",
    "    'hares':hares,\n",
    "    'lynxes':lynxes,\n",
    "    'carrots':carrots\n",
    "}\n",
    "for dataset in ['hares','lynxes','carrots']:\n",
    "    print('Statistical properties for'+dataset+'dataset:')\n",
    "    for function in ['sum','argmin','mean','median','std']:\n",
    "        print (function, getattr(np, function)(dataNames[dataset]))\n",
    "    print('\\n')\n",
    "    \n",
    "print('\\n','correlation of hares and lynxes', '\\n',  getattr(np, 'corrcoef')(hares,lynxes),'\\n')\n",
    "print('correlation of hares and carrots', '\\n',  getattr(np, 'corrcoef')(hares,carrots),'\\n')\n",
    "print('correlation of carrots and lynxes', '\\n',  getattr(np, 'corrcoef')(carrots,lynxes),'\\n',)\n",
    "\n",
    "titles=[\"hares\",\"lynxes\",\"carrots\"]\n",
    "maxVals = np.argmax(data, axis = 1)\n",
    "for index,row in enumerate(maxVals):\n",
    "    print(years[index],titles[row-1])\n"
   ]
  },
  {
   "cell_type": "code",
   "execution_count": null,
   "metadata": {},
   "outputs": [],
   "source": []
  }
 ],
 "metadata": {
  "kernelspec": {
   "display_name": "Python 3",
   "language": "python",
   "name": "python3"
  },
  "language_info": {
   "codemirror_mode": {
    "name": "ipython",
    "version": 3
   },
   "file_extension": ".py",
   "mimetype": "text/x-python",
   "name": "python",
   "nbconvert_exporter": "python",
   "pygments_lexer": "ipython3",
   "version": "3.7.0"
  }
 },
 "nbformat": 4,
 "nbformat_minor": 2
}
